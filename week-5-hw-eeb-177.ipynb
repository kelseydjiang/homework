{
 "cells": [
  {
   "cell_type": "markdown",
   "metadata": {},
   "source": [
    "# Part 1 - Questions "
   ]
  },
  {
   "cell_type": "markdown",
   "metadata": {},
   "source": [
    "1. How many families are in this file?\n",
    "2. Which family has the most species represented?\n",
    "3. How many families have only a single species in them?\n",
    "4. How many families are present in the eBird data?\n",
    "5. How many species are in each family of the eBird data?"
   ]
  },
  {
   "cell_type": "markdown",
   "metadata": {},
   "source": [
    "1. 194   \n",
    "tail -n +4 formatted.nature.csv | cut -d ',' -f3 | sort | uniq | wc -l\n",
    "2. Trochilidae  \n",
    "tail -n +4 formatted.nature.csv | cut -d ',' -f3 | sort | uniq -c\n",
    "3. 60   \n",
    "tail -n +4 formatted.nature.csv | cut -d ',' -f3 | sort | uniq -c | grep -w \"l\" -c \n",
    "4. 239   \n",
    "tail -n +2 formatted.nature.csv | cut -d ',' -f8 | sort | uniq | wc -l\n",
    "5. 4 Acanthisittidae (New Zealand Wrens)\n",
    "     76 Acanthizidae (Thornbills and Allies)\n",
    "    386 \"Accipitridae (Hawks\n",
    "     80 Acrocephalidae (Reed-Warblers and Allies)\n",
    "     23 Aegithalidae (Long-tailed Tits)\n",
    "      5 Aegithinidae (Ioras)\n",
    "     14 Aegothelidae (Owlet-nightjars)\n",
    "    148 Alaudidae (Larks)\n",
    "    161 Alcedinidae (Kingfishers)\n",
    "     40 \"Alcidae (Auks\n",
    "    364 \"Anatidae (Ducks\n",
    "      3 Anhimidae (Screamers)\n",
    "      4 Anhingidae (Anhingas)\n",
    "      1 Anseranatidae (Magpie Goose)\n",
    "    152 Apodidae (Swifts)\n",
    "      7 Apterygidae (Kiwis)\n",
    "      3 Aramidae (Limpkin)\n",
    "    126 \"Ardeidae (Herons\n",
    "     14 Artamidae (Woodswallows)\n",
    "      2 Atrichornithidae (Scrub-birds)\n",
    "      1 Balaenicipitidae (Shoebill)\n",
    "     11 Bernieridae (Malagasy Warblers)\n",
    "      4 Bombycillidae (Waxwings)\n",
    "      5 Brachypteraciidae (Ground-Rollers)\n",
    "     48 Bucconidae (Puffbirds)\n",
    "     74 Bucerotidae (Hornbills)\n",
    "      2 Bucorvidae (Ground-Hornbills)\n",
    "      3 Buphagidae (Oxpeckers)\n",
    "     11 Burhinidae (Thick-knees)\n",
    "     26 Cacatuidae (Cockatoos)\n",
    "      9 Calcariidae (Longspurs and Snow Buntings)\n",
    "      5 Callaeidae (Wattlebirds)\n",
    "     10 Calyptomenidae (African and Green Broadbills)\n",
    "    111 Campephagidae (Cuckooshrikes)\n",
    "     18 Capitonidae (New World Barbets)\n",
    "    124 Caprimulgidae (Nightjars and Allies)\n",
    "     93 Cardinalidae (Cardinals and Allies)\n",
    "      2 Cariamidae (Seriemas)\n",
    "      4 Casuariidae (Cassowaries and Emu)\n",
    "     12 Cathartidae (New World Vultures)\n",
    "     19 Certhiidae (Treecreepers)\n",
    "     42 Cettiidae (Bush-Warblers and Allies)\n",
    "      2 Chaetopidae (Rockjumpers)\n",
    "     90 Charadriidae (Plovers and Lapwings)\n",
    "      2 Chionidae (Sheathbills)\n",
    "     13 Chloropseidae (Leafbirds)\n",
    "     25 Ciconiidae (Storks)\n",
    "     10 Cinclidae (Dippers)\n",
    "     14 Cinclosomatidae (Quail-thrushes and Jewel-babblers)\n",
    "    222 Cisticolidae (Cisticolas and Allies)\n",
    "      9 Climacteridae (Australasian Treecreepers)\n",
    "      3 Cnemophilidae (Satinbirds)\n",
    "      7 Coliidae (Mousebirds)\n",
    "    425 Columbidae (Pigeons and Doves)\n",
    "     13 Conopophagidae (Gnateaters)\n",
    "     18 Coraciidae (Rollers)\n",
    "      2 Corcoracidae (White-winged Chough and Apostlebird)\n",
    "    190 \"Corvidae (Crows\n",
    "     76 Cotingidae (Cotingas)\n",
    "     72 \"Cracidae (Guans\n",
    "     26 Cracticidae (Bellmagpies and Allies)\n",
    "    206 Cuculidae (Cuckoos)\n",
    "      3 Dasyornithidae (Bristlebirds)\n",
    "     57 Dicaeidae (Flowerpeckers)\n",
    "     40 Dicruridae (Drongos)\n",
    "     33 Diomedeidae (Albatrosses)\n",
    "      1 Donacobiidae (Donacobius)\n",
    "      1 Dromadidae (Crab Plover)\n",
    "      1 Dulidae (Palmchat)\n",
    "      1 Elachuridae (Spotted Elachura)\n",
    "    318 Emberizidae (Buntings and New World Sparrows)\n",
    "    176 Estrildidae (Waxbills and Allies)\n",
    "      1 Eulacestomatidae (Ploughbill)\n",
    "      1 Eupetidae (Rail-babbler)\n",
    "     11 Eurylaimidae (Asian and Grauer's Broadbills)\n",
    "      1 Eurypygidae (Sunbittern)\n",
    "    109 Falconidae (Falcons and Caracaras)\n",
    "      4 Falcunculidae (Shrike-tit)\n",
    "     17 Formicariidae (Antthrushes)\n",
    "      6 Fregatidae (Frigatebirds)\n",
    "    325 \"Fringillidae (Finches\n",
    "    452 Furnariidae (Ovenbirds and Woodcreepers)\n",
    "     23 Galbulidae (Jacamars)\n",
    "      8 Gaviidae (Loons)\n",
    "     23 Glareolidae (Pratincoles and Coursers)\n",
    "     74 Grallariidae (Antpittas)\n",
    "     23 Gruidae (Cranes)\n",
    "     16 Haematopodidae (Oystercatchers)\n",
    "      3 Heliornithidae (Finfoots)\n",
    "      5 Hemiprocnidae (Treeswifts)\n",
    "    146 Hirundinidae (Swallows)\n",
    "     50 Hydrobatidae (Storm-Petrels)\n",
    "      4 Hyliotidae (Hyliotas)\n",
    "      1 Hylocitreidae (Hylocitrea)\n",
    "      1 Hypocoliidae (Hypocolius)\n",
    "      1 Ibidorhynchidae (Ibisbill)\n",
    "    166 Icteridae (Troupials and Allies)\n",
    "      1 Ifritidae (Ifrita)\n",
    "     20 Indicatoridae (Honeyguides)\n",
    "      2 Irenidae (Fairy-bluebirds)\n",
    "     13 Jacanidae (Jacanas)\n",
    "     59 Laniidae (Shrikes)\n",
    "    209 \"Laridae (Gulls\n",
    "    171 Leiothrichidae (Laughingthrushes and Allies)\n",
    "      1 Leptosomidae (Cuckoo-Roller)\n",
    "     76 Locustellidae (Grassbirds and Allies)\n",
    "     64 Lybiidae (African Barbets)\n",
    "      2 Machaerirhynchidae (Boatbills)\n",
    "     25 Macrosphenidae (African Warblers)\n",
    "     72 Malaconotidae (Bushshrikes and Allies)\n",
    "     40 Maluridae (Fairywrens)\n",
    "     42 Megalaimidae (Asian Barbets)\n",
    "     23 Megapodiidae (Megapodes)\n",
    "      2 Melampittidae (Melampittas)\n",
    "     12 Melanocharitidae (Berrypeckers and Longbills)\n",
    "      4 Melanopareiidae (Crescentchests)\n",
    "    208 Meliphagidae (Honeyeaters)\n",
    "      2 Menuridae (Lyrebirds)\n",
    "     33 Meropidae (Bee-eaters)\n",
    "      3 Mesitornithidae (Mesites)\n",
    "     46 Mimidae (Mockingbirds and Thrashers)\n",
    "      5 Mohoidae (Hawaiian Honeyeaters)\n",
    "      3 Mohouidae (Whiteheads)\n",
    "     21 Momotidae (Motmots)\n",
    "    136 Monarchidae (Monarch Flycatchers)\n",
    "    130 Motacillidae (Wagtails and Pipits)\n",
    "    457 Muscicapidae (Old World Flycatchers)\n",
    "     41 Musophagidae (Turacos)\n",
    "    190 Nectariniidae (Sunbirds and Spiderhunters)\n",
    "      8 Neosittidae (Sittellas)\n",
    "      4 Nicatoridae (Nicators)\n",
    "      1 Notiomystidae (Stitchbird)\n",
    "     15 Numididae (Guineafowl)\n",
    "     10 Nyctibiidae (Potoos)\n",
    "     50 Odontophoridae (New World Quail)\n",
    "      1 Opisthocomidae (Hoatzin)\n",
    "      3 Oreoicidae (Australo-Papuan Bellbirds)\n",
    "     46 Oriolidae (Old World Orioles)\n",
    "      3 Orthonychidae (Logrunners)\n",
    "     34 Otididae (Bustards)\n",
    "      1 Oxyruncidae (Sharpbill)\n",
    "     71 Pachycephalidae (Whistlers and Allies)\n",
    "      5 Pandionidae (Osprey)\n",
    "      1 Panuridae (Bearded Reedling)\n",
    "     45 Paradisaeidae (Birds-of-Paradise)\n",
    "     46 \"Paradoxornithidae (Parrotbills\n",
    "      2 Paramythiidae (Tit Berrypecker and Crested Berrypecker)\n",
    "     12 Pardalotidae (Pardalotes)\n",
    "     98 \"Paridae (Tits\n",
    "    228 Parulidae (New World Warblers)\n",
    "     55 Passeridae (Old World Sparrows)\n",
    "      1 Pedionomidae (Plains-wanderer)\n",
    "     13 Pelecanidae (Pelicans)\n",
    "     70 Pellorneidae (Ground Babblers and Allies)\n",
    "     58 Petroicidae (Australasian Robins)\n",
    "      1 Peucedramidae (Olive Warbler)\n",
    "     11 Phaethontidae (Tropicbirds)\n",
    "     56 Phalacrocoracidae (Cormorants and Shags)\n",
    "    240 \"Phasianidae (Pheasants\n",
    "      5 Philepittidae (Asities)\n",
    "      8 Phoenicopteridae (Flamingos)\n",
    "     13 Phoeniculidae (Woodhoopoes and Scimitar-bills)\n",
    "    119 Phylloscopidae (Leaf Warblers)\n",
    "      2 Picathartidae (Rockfowl)\n",
    "    370 Picidae (Woodpeckers)\n",
    "     67 Pipridae (Manakins)\n",
    "     59 Pittidae (Pittas)\n",
    "      1 Pityriaseidae (Bristlehead)\n",
    "     45 Platysteiridae (Wattle-eyes and Batises)\n",
    "    154 Ploceidae (Weavers and Allies)\n",
    "      1 Pluvianellidae (Magellanic Plover)\n",
    "      1 Pluvianidae (Egyptian Plover)\n",
    "      7 Pnoepygidae (Cupwings)\n",
    "     23 Podargidae (Frogmouths)\n",
    "     31 Podicipedidae (Grebes)\n",
    "     30 Polioptilidae (Gnatcatchers)\n",
    "      5 Pomatostomidae (Pseudo-Babblers)\n",
    "    144 Procellariidae (Shearwaters and Petrels)\n",
    "      5 Promeropidae (Sugarbirds)\n",
    "     14 Prunellidae (Accentors)\n",
    "    251 Psittacidae (New World and African Parrots)\n",
    "    226 Psittaculidae (Old World Parrots)\n",
    "     11 Psophiidae (Trumpeters)\n",
    "      5 Psophodidae (Whipbirds and Wedgebills)\n",
    "     24 Pteroclidae (Sandgrouse)\n",
    "      4 Ptiliogonatidae (Silky-flycatchers)\n",
    "     28 Ptilonorhynchidae (Bowerbirds)\n",
    "    200 Pycnonotidae (Bulbuls)\n",
    "    203 \"Rallidae (Rails\n",
    "     64 Ramphastidae (Toucans)\n",
    "     19 Recurvirostridae (Stilts and Avocets)\n",
    "     13 Regulidae (Kinglets)\n",
    "     16 Remizidae (Penduline-Tits)\n",
    "      1 Rhagologidae (Mottled Berryhunter)\n",
    "      4 Rheidae (Rheas)\n",
    "     75 Rhinocryptidae (Tapaculos)\n",
    "     86 Rhipiduridae (Fantails)\n",
    "      1 Rhynochetidae (Kagu)\n",
    "      3 Rostratulidae (Painted-Snipes)\n",
    "      1 Sagittariidae (Secretary-bird)\n",
    "      1 Sapayoidae (Sapayoa)\n",
    "     15 Sarothruridae (Flufftails)\n",
    "    158 Scolopacidae (Sandpipers and Allies)\n",
    "      1 Scopidae (Hamerkop)\n",
    "      2 Semnornithidae (Toucan-Barbets)\n",
    "     37 Sittidae (Nuthatches)\n",
    "     21 Spheniscidae (Penguins)\n",
    "      1 Steatornithidae (Oilbird)\n",
    "     11 Stenostiridae (Fairy Flycatchers)\n",
    "     16 Stercorariidae (Skuas and Jaegers)\n",
    "    318 Strigidae (Owls)\n",
    "      4 Strigopidae (New Zealand Parrots)\n",
    "      3 Struthionidae (Ostriches)\n",
    "    147 Sturnidae (Starlings)\n",
    "     21 Sulidae (Boobies and Gannets)\n",
    "     47 Sylviidae (Sylviid Warblers)\n",
    "    298 Thamnophilidae (Typical Antbirds)\n",
    "      4 Thinocoridae (Seedsnipes)\n",
    "    505 Thraupidae (Tanagers and Allies)\n",
    "     44 Threskiornithidae (Ibises and Spoonbills)\n",
    "      1 Tichodromidae (Wallcreeper)\n",
    "     67 \"Timaliidae (Tree-Babblers\n",
    "     57 Tinamidae (Tinamous)\n",
    "     44 Tityridae (Tityras and Allies)\n",
    "      6 Todidae (Todies)\n",
    "    472 Trochilidae (Hummingbirds)\n",
    "    165 Troglodytidae (Wrens)\n",
    "     61 Trogonidae (Trogons)\n",
    "    295 Turdidae (Thrushes and Allies)\n",
    "     19 Turnicidae (Buttonquail)\n",
    "    617 Tyrannidae (Tyrant Flycatchers)\n",
    "     35 Tytonidae (Barn-Owls)\n",
    "      5 Upupidae (Hoopoes)\n",
    "      1 Urocynchramidae (Przevalski's Pinktail)\n",
    "     54 \"Vangidae (Vangas\n",
    "     23 Viduidae (Indigobirds)\n",
    "    108 \"Vireonidae (Vireos\n",
    "    147 \"Zosteropidae (White-eyes)\n",
    "    \n",
    "tail -n +2 formatted_eBird_data.csv | cut -d',' -f8 | sort | uniq -c  "
   ]
  },
  {
   "cell_type": "markdown",
   "metadata": {
    "collapsed": true
   },
   "source": [
    "# Part 2 - Bird Data in Python"
   ]
  },
  {
   "cell_type": "code",
   "execution_count": 4,
   "metadata": {
    "collapsed": true
   },
   "outputs": [],
   "source": [
    "def makeBirdDict(filename):\n",
    "    # this function opens the data file from Thomas et al and extracts the species and family as a dictionary.\n",
    "    birdDict = {}\n",
    "    fobj = open(filename,\"r\", encoding = \"ISO-8859-15\") # open the file \n",
    "    all_records = fobj.readlines() [1:] # read the file, all_records is a list\n",
    "    for line in all_records:\n",
    "        record_elements = line.split(\",\")\n",
    "        species = record_elements[0]\n",
    "        family = record_elements[2]\n",
    "        birdDict[species] = family\n",
    "    # species = line.split(\",\") splits it into a new list that is ordered correctly  \n",
    "    # split lines on comma\n",
    "    # stick species and family into birdDict\n",
    "    \n",
    "    return birdDict"
   ]
  },
  {
   "cell_type": "code",
   "execution_count": 3,
   "metadata": {
    "collapsed": false
   },
   "outputs": [
    {
     "ename": "IndentationError",
     "evalue": "expected an indented block (<ipython-input-3-0b9940ef2c30>, line 2)",
     "output_type": "error",
     "traceback": [
      "\u001b[0;36m  File \u001b[0;32m\"<ipython-input-3-0b9940ef2c30>\"\u001b[0;36m, line \u001b[0;32m2\u001b[0m\n\u001b[0;31m    thomas_birds = makeBirdDict(\"formatted.nature.csv\")\u001b[0m\n\u001b[0m               ^\u001b[0m\n\u001b[0;31mIndentationError\u001b[0m\u001b[0;31m:\u001b[0m expected an indented block\n"
     ]
    }
   ],
   "source": [
    "def makeBirdDict(filename):\n",
    "thomas_birds = makeBirdDict(\"formatted.nature.csv\")\n",
    "species = list(thomas_birds.keys())\n",
    "#sorted(species)\n",
    "species.sort() # internally sorts the list\n",
    "# first_species = species[0]\n",
    "# first_fam = thomas_birds[first_species]\n",
    "# print( first_species, first_fam)\n",
    "species[1]\n",
    "\n",
    "print(\"Species \" + species[1] + \" belongs to Family \" + family[1] + \".\")"
   ]
  },
  {
   "cell_type": "code",
   "execution_count": 5,
   "metadata": {
    "collapsed": false
   },
   "outputs": [
    {
     "ename": "IndentationError",
     "evalue": "expected an indented block (<ipython-input-5-b7ac02417cfe>, line 2)",
     "output_type": "error",
     "traceback": [
      "\u001b[0;36m  File \u001b[0;32m\"<ipython-input-5-b7ac02417cfe>\"\u001b[0;36m, line \u001b[0;32m2\u001b[0m\n\u001b[0;31m    thomas_birds = makeBirdDict(\"formatted.nature.csv\")\u001b[0m\n\u001b[0m               ^\u001b[0m\n\u001b[0;31mIndentationError\u001b[0m\u001b[0;31m:\u001b[0m expected an indented block\n"
     ]
    }
   ],
   "source": [
    "def makeBirdDict(filename):\n",
    "thomas_birds = makeBirdDict(\"formatted.nature.csv\")\n",
    "species = list(thomas_birds.keys())\n",
    "#sorted(species)\n",
    "species.sort() # internally sorts the list\n",
    "# first_species = species[0]\n",
    "# first_fam = thomas_birds[first_species]\n",
    "# print( first_species, first_fam)\n",
    "species[1]\n",
    "counted = Counter(thomas_birds)\n",
    "print(counted)\n",
    "\n",
    "print(\"There are \" + species[1] + \" total species in Family \" + family[1] + \".\")"
   ]
  },
  {
   "cell_type": "markdown",
   "metadata": {},
   "source": [
    "# Part 3 - Chapter 5"
   ]
  },
  {
   "cell_type": "code",
   "execution_count": 1,
   "metadata": {
    "collapsed": false
   },
   "outputs": [
    {
     "name": "stdout",
     "output_type": "stream",
     "text": [
      "False\n",
      "False\n",
      "True\n",
      "False\n",
      "True\n",
      "True\n",
      "False\n",
      "True\n",
      "False\n",
      "True\n"
     ]
    }
   ],
   "source": [
    "print(3 == 5)\n",
    "print(3 > 5)\n",
    "print(3 <=5)\n",
    "print(len(\"ATGC\") > 5)\n",
    "print(\"GAATTC\".count(\"T\") > 1)\n",
    "print(\"ATGCTT\".startswith(\"ATG\"))\n",
    "print(\"ATGCTT\".endswith(\"TTT\"))\n",
    "print(\"ATGCTT\".isupper())\n",
    "print(\"ATGCTT\".islower())\n",
    "print(\"V\" in [\"V\", \"W\", \"L\"])"
   ]
  },
  {
   "cell_type": "code",
   "execution_count": 3,
   "metadata": {
    "collapsed": false
   },
   "outputs": [
    {
     "name": "stdout",
     "output_type": "stream",
     "text": [
      "True\n",
      "False\n"
     ]
    },
    {
     "ename": "NameError",
     "evalue": "name 'Hello' is not defined",
     "output_type": "error",
     "traceback": [
      "\u001b[0;31m---------------------------------------------------------------------------\u001b[0m",
      "\u001b[0;31mNameError\u001b[0m                                 Traceback (most recent call last)",
      "\u001b[0;32m<ipython-input-3-3cf76c9f9680>\u001b[0m in \u001b[0;36m<module>\u001b[0;34m()\u001b[0m\n\u001b[1;32m      1\u001b[0m \u001b[0mprint\u001b[0m\u001b[0;34m(\u001b[0m\u001b[0;32mTrue\u001b[0m\u001b[0;34m)\u001b[0m\u001b[0;34m\u001b[0m\u001b[0m\n\u001b[1;32m      2\u001b[0m \u001b[0mprint\u001b[0m\u001b[0;34m(\u001b[0m\u001b[0;32mFalse\u001b[0m\u001b[0;34m)\u001b[0m\u001b[0;34m\u001b[0m\u001b[0m\n\u001b[0;32m----> 3\u001b[0;31m \u001b[0mprint\u001b[0m\u001b[0;34m(\u001b[0m\u001b[0mHello\u001b[0m\u001b[0;34m)\u001b[0m\u001b[0;34m\u001b[0m\u001b[0m\n\u001b[0m",
      "\u001b[0;31mNameError\u001b[0m: name 'Hello' is not defined"
     ]
    }
   ],
   "source": [
    "print(True)\n",
    "print(False)\n",
    "print(Hello)"
   ]
  },
  {
   "cell_type": "code",
   "execution_count": 4,
   "metadata": {
    "collapsed": false
   },
   "outputs": [
    {
     "ename": "IndentationError",
     "evalue": "expected an indented block (<ipython-input-4-a6743249a0a8>, line 3)",
     "output_type": "error",
     "traceback": [
      "\u001b[0;36m  File \u001b[0;32m\"<ipython-input-4-a6743249a0a8>\"\u001b[0;36m, line \u001b[0;32m3\u001b[0m\n\u001b[0;31m    print(\"gene is highly expressed\")\u001b[0m\n\u001b[0m        ^\u001b[0m\n\u001b[0;31mIndentationError\u001b[0m\u001b[0;31m:\u001b[0m expected an indented block\n"
     ]
    }
   ],
   "source": [
    "expression_level = 125\n",
    "if expression_level > 100:\n",
    "print(\"gene is highly expressed\")"
   ]
  },
  {
   "cell_type": "code",
   "execution_count": 15,
   "metadata": {
    "collapsed": false
   },
   "outputs": [
    {
     "name": "stdout",
     "output_type": "stream",
     "text": [
      "ab56\n",
      "ay93\n",
      "ap97\n"
     ]
    }
   ],
   "source": [
    "accs = ['ab56', 'bh84', 'hv76', 'ay93', 'ap97', 'bd72']\n",
    "for accession in accs:\n",
    "    if accession.startswith('a'):\n",
    "        print(accession)"
   ]
  },
  {
   "cell_type": "code",
   "execution_count": 17,
   "metadata": {
    "collapsed": false
   },
   "outputs": [
    {
     "name": "stdout",
     "output_type": "stream",
     "text": [
      "gene is highly expressed\n"
     ]
    }
   ],
   "source": [
    "expression_level = 125\n",
    "if expression_level > 100:\n",
    "    print(\"gene is highly expressed\")\n",
    "else:\n",
    "    print(\"gene is lowly expressed\")"
   ]
  },
  {
   "cell_type": "code",
   "execution_count": 19,
   "metadata": {
    "collapsed": false
   },
   "outputs": [],
   "source": [
    "file1 = open(\"one.txt\", \"w\")\n",
    "file2 = open(\"two.txt\", \"w\")\n",
    "accs = ['ab56', 'bh84', 'hv76', 'ay93', 'ap97', 'bd72']\n",
    "for accession in accs:\n",
    "    if accession.startswith('a'):\n",
    "        file1.write(accession + \"\\n\")\n",
    "    else:\n",
    "        file2.write(accession + \"\\n\")"
   ]
  },
  {
   "cell_type": "code",
   "execution_count": 20,
   "metadata": {
    "collapsed": true
   },
   "outputs": [],
   "source": [
    "file1 = open(\"one.txt\", \"w\")\n",
    "file2 = open(\"two.txt\", \"w\")\n",
    "file3 = open(\"three.txt\", \"w\")\n",
    "accs = ['ab56', 'bh84', 'hv76', 'ay93', 'ap97', 'bd72']\n",
    "for accession in accs:\n",
    "    if accession.startswith('a'):\n",
    "        file1.write(accession + \"\\n\")\n",
    "    else:\n",
    "        if accession.startswith('b'):\n",
    "            file2.write(accession + \"\\n\")\n",
    "        else:\n",
    "            file3.write(accession + \"\\n\")"
   ]
  },
  {
   "cell_type": "code",
   "execution_count": null,
   "metadata": {
    "collapsed": true
   },
   "outputs": [],
   "source": [
    "file1 = open(\"one.txt\", \"w\")\n",
    "file2 = open(\"two.txt\", \"w\")\n",
    "file3 = open(\"three.txt\", \"w\")\n",
    "accs = ['ab56', 'bh84', 'hv76', 'ay93', 'ap97', 'bd72']\n",
    "for accession in accs:\n",
    "    if accession.startswith('a'):\n",
    "        file1.write(accession + \"\\n\")\n",
    "    elif accession.startswith('b'):\n",
    "        file2.write(accession + \"\\n\")\n",
    "    else:\n",
    "        file3.write(accession + \"\\n\")"
   ]
  },
  {
   "cell_type": "code",
   "execution_count": 21,
   "metadata": {
    "collapsed": false
   },
   "outputs": [
    {
     "ename": "NameError",
     "evalue": "name 'file6' is not defined",
     "output_type": "error",
     "traceback": [
      "\u001b[0;31m---------------------------------------------------------------------------\u001b[0m",
      "\u001b[0;31mNameError\u001b[0m                                 Traceback (most recent call last)",
      "\u001b[0;32m<ipython-input-21-27120dce5312>\u001b[0m in \u001b[0;36m<module>\u001b[0;34m()\u001b[0m\n\u001b[1;32m     11\u001b[0m         \u001b[0mfile5\u001b[0m\u001b[0;34m.\u001b[0m\u001b[0mwrite\u001b[0m\u001b[0;34m(\u001b[0m\u001b[0maccession\u001b[0m \u001b[0;34m+\u001b[0m \u001b[0;34m\"\\n\"\u001b[0m\u001b[0;34m)\u001b[0m\u001b[0;34m\u001b[0m\u001b[0m\n\u001b[1;32m     12\u001b[0m     \u001b[0;32melse\u001b[0m\u001b[0;34m:\u001b[0m\u001b[0;34m\u001b[0m\u001b[0m\n\u001b[0;32m---> 13\u001b[0;31m         \u001b[0mfile6\u001b[0m\u001b[0;34m.\u001b[0m\u001b[0mwrite\u001b[0m\u001b[0;34m(\u001b[0m\u001b[0maccession\u001b[0m \u001b[0;34m+\u001b[0m \u001b[0;34m\"\\n\"\u001b[0m\u001b[0;34m)\u001b[0m\u001b[0;34m\u001b[0m\u001b[0m\n\u001b[0m",
      "\u001b[0;31mNameError\u001b[0m: name 'file6' is not defined"
     ]
    }
   ],
   "source": [
    "for accession in accs:\n",
    "    if accession.startswith('a'):\n",
    "        file1.write(accession + \"\\n\")\n",
    "    elif accession.startswith('b'):\n",
    "        file2.write(accession + \"\\n\")\n",
    "    elif accession.startswith('c'):\n",
    "        file3.write(accession + \"\\n\")\n",
    "    elif accession.startswith('d'):\n",
    "        file4.write(accession + \"\\n\")\n",
    "    elif accession.startswith('e'):\n",
    "        file5.write(accession + \"\\n\")\n",
    "    else:\n",
    "        file6.write(accession + \"\\n\")"
   ]
  },
  {
   "cell_type": "code",
   "execution_count": 1,
   "metadata": {
    "collapsed": false
   },
   "outputs": [
    {
     "name": "stdout",
     "output_type": "stream",
     "text": [
      "0\n",
      "1\n",
      "2\n",
      "3\n",
      "4\n",
      "5\n",
      "6\n",
      "7\n",
      "8\n",
      "9\n"
     ]
    }
   ],
   "source": [
    "count = 0\n",
    "while count<10:\n",
    "    print(count)\n",
    "    count = count + 1"
   ]
  },
  {
   "cell_type": "code",
   "execution_count": 2,
   "metadata": {
    "collapsed": false
   },
   "outputs": [
    {
     "name": "stdout",
     "output_type": "stream",
     "text": [
      "ay93\n"
     ]
    }
   ],
   "source": [
    "accs = ['ab56', 'bh84', 'hv76', 'ay93', 'ap97', 'bd72']\n",
    "for accession in accs:\n",
    "    if accession.startswith('a'):\n",
    "        if accession.endswith('3'):\n",
    "            print(accession)"
   ]
  },
  {
   "cell_type": "code",
   "execution_count": 3,
   "metadata": {
    "collapsed": false
   },
   "outputs": [
    {
     "name": "stdout",
     "output_type": "stream",
     "text": [
      "ay93\n"
     ]
    }
   ],
   "source": [
    "accs = ['ab56', 'bh84', 'hv76', 'ay93', 'ap97', 'bd72']\n",
    "for accession in accs:\n",
    "    if accession.startswith('a') and accession.endswith('3'):\n",
    "        print(accession)"
   ]
  },
  {
   "cell_type": "code",
   "execution_count": 4,
   "metadata": {
    "collapsed": false
   },
   "outputs": [
    {
     "name": "stdout",
     "output_type": "stream",
     "text": [
      "ab56\n",
      "bh84\n",
      "ay93\n",
      "ap97\n",
      "bd72\n"
     ]
    }
   ],
   "source": [
    "accs = ['ab56', 'bh84', 'hv76', 'ay93', 'ap97', 'bd72']\n",
    "for accession in accs:\n",
    "    if accession.startswith('a') or accession.startswith('b'):\n",
    "        print(accession)"
   ]
  },
  {
   "cell_type": "code",
   "execution_count": 5,
   "metadata": {
    "collapsed": false
   },
   "outputs": [
    {
     "name": "stdout",
     "output_type": "stream",
     "text": [
      "bh84\n"
     ]
    }
   ],
   "source": [
    "accs = ['ab56', 'bh84', 'hv76', 'ay93', 'ap97', 'bd72']\n",
    "for acc in accs:\n",
    "    if (acc.startswith('a') or acc.startswith('b')) and acc.endswith('4'):\n",
    "        print(acc)"
   ]
  },
  {
   "cell_type": "code",
   "execution_count": 6,
   "metadata": {
    "collapsed": false
   },
   "outputs": [
    {
     "name": "stdout",
     "output_type": "stream",
     "text": [
      "ay93\n",
      "ap97\n"
     ]
    }
   ],
   "source": [
    "accs = ['ab56', 'bh84', 'hv76', 'ay93', 'ap97', 'bd72']\n",
    "for acc in accs:\n",
    "    if acc.startswith('a') and not acc.endswith('6'):\n",
    "        print(acc)"
   ]
  },
  {
   "cell_type": "code",
   "execution_count": 7,
   "metadata": {
    "collapsed": true
   },
   "outputs": [],
   "source": [
    "def is_at_rich(dna):\n",
    "    length = len(dna)\n",
    "    a_count = dna.upper().count('A')\n",
    "    t_count = dna.upper().count('T')\n",
    "    at_content = (a_count + t_count) / length\n",
    "    if at_content > 0.65:\n",
    "        return True\n",
    "    else:\n",
    "        return False"
   ]
  },
  {
   "cell_type": "code",
   "execution_count": 8,
   "metadata": {
    "collapsed": false
   },
   "outputs": [
    {
     "name": "stdout",
     "output_type": "stream",
     "text": [
      "True\n",
      "False\n"
     ]
    }
   ],
   "source": [
    "print(is_at_rich(\"ATTATCTACTA\"))\n",
    "print(is_at_rich(\"CGGCAGCGCT\"))"
   ]
  },
  {
   "cell_type": "code",
   "execution_count": 9,
   "metadata": {
    "collapsed": true
   },
   "outputs": [],
   "source": [
    "def is_at_rich(dna):\n",
    "    length = len(dna)\n",
    "    a_count = dna.upper().count('A')\n",
    "    t_count = dna.upper().count('T')\n",
    "    at_content = (a_count + t_count) / length\n",
    "    return at_content > 0.65"
   ]
  },
  {
   "cell_type": "code",
   "execution_count": 10,
   "metadata": {
    "collapsed": false
   },
   "outputs": [
    {
     "name": "stdout",
     "output_type": "stream",
     "text": [
      "True\n",
      "False\n"
     ]
    }
   ],
   "source": [
    "print(is_at_rich(\"ATTATCTACTA\"))\n",
    "print(is_at_rich(\"CGGCAGCGCT\"))"
   ]
  },
  {
   "cell_type": "code",
   "execution_count": null,
   "metadata": {
    "collapsed": true
   },
   "outputs": [],
   "source": []
  }
 ],
 "metadata": {
  "anaconda-cloud": {},
  "kernelspec": {
   "display_name": "Python [default]",
   "language": "python",
   "name": "python3"
  },
  "language_info": {
   "codemirror_mode": {
    "name": "ipython",
    "version": 3
   },
   "file_extension": ".py",
   "mimetype": "text/x-python",
   "name": "python",
   "nbconvert_exporter": "python",
   "pygments_lexer": "ipython3",
   "version": "3.5.2"
  }
 },
 "nbformat": 4,
 "nbformat_minor": 2
}
